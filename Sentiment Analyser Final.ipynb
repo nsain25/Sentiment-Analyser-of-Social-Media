{
 "cells": [
  {
   "cell_type": "code",
   "execution_count": 1,
   "id": "ff0eaa64",
   "metadata": {},
   "outputs": [
    {
     "data": {
      "text/html": [
       "<div>\n",
       "<style scoped>\n",
       "    .dataframe tbody tr th:only-of-type {\n",
       "        vertical-align: middle;\n",
       "    }\n",
       "\n",
       "    .dataframe tbody tr th {\n",
       "        vertical-align: top;\n",
       "    }\n",
       "\n",
       "    .dataframe thead th {\n",
       "        text-align: right;\n",
       "    }\n",
       "</style>\n",
       "<table border=\"1\" class=\"dataframe\">\n",
       "  <thead>\n",
       "    <tr style=\"text-align: right;\">\n",
       "      <th></th>\n",
       "      <th>File Name</th>\n",
       "      <th>Caption</th>\n",
       "      <th>LABEL</th>\n",
       "    </tr>\n",
       "  </thead>\n",
       "  <tbody>\n",
       "    <tr>\n",
       "      <th>0</th>\n",
       "      <td>1.txt</td>\n",
       "      <td>How I feel today #legday #jelly #aching #gym</td>\n",
       "      <td>negative</td>\n",
       "    </tr>\n",
       "    <tr>\n",
       "      <th>1</th>\n",
       "      <td>10.txt</td>\n",
       "      <td>@ArrivaTW absolute disgrace two carriages from...</td>\n",
       "      <td>negative</td>\n",
       "    </tr>\n",
       "    <tr>\n",
       "      <th>2</th>\n",
       "      <td>100.txt</td>\n",
       "      <td>This is my Valentine's from 1 of my nephews. I...</td>\n",
       "      <td>positive</td>\n",
       "    </tr>\n",
       "    <tr>\n",
       "      <th>3</th>\n",
       "      <td>1000.txt</td>\n",
       "      <td>betterfeelingfilms: RT via Instagram: First da...</td>\n",
       "      <td>neutral</td>\n",
       "    </tr>\n",
       "    <tr>\n",
       "      <th>4</th>\n",
       "      <td>1001.txt</td>\n",
       "      <td>Zoe's first love #Rattled @JohnnyHarper15</td>\n",
       "      <td>positive</td>\n",
       "    </tr>\n",
       "    <tr>\n",
       "      <th>...</th>\n",
       "      <td>...</td>\n",
       "      <td>...</td>\n",
       "      <td>...</td>\n",
       "    </tr>\n",
       "    <tr>\n",
       "      <th>4864</th>\n",
       "      <td>995.txt</td>\n",
       "      <td>OMG. Well done #Eskom! 'Man dies during #LoadS...</td>\n",
       "      <td>positive</td>\n",
       "    </tr>\n",
       "    <tr>\n",
       "      <th>4865</th>\n",
       "      <td>996.txt</td>\n",
       "      <td>Feelin' the love in here! #ValentinesDay #caring</td>\n",
       "      <td>positive</td>\n",
       "    </tr>\n",
       "    <tr>\n",
       "      <th>4866</th>\n",
       "      <td>997.txt</td>\n",
       "      <td>#blue #eyes can't be #beaten</td>\n",
       "      <td>neutral</td>\n",
       "    </tr>\n",
       "    <tr>\n",
       "      <th>4867</th>\n",
       "      <td>998.txt</td>\n",
       "      <td>LA CHUCHA LOUUU TE CHUPO LOS OJOS..!</td>\n",
       "      <td>neutral</td>\n",
       "    </tr>\n",
       "    <tr>\n",
       "      <th>4868</th>\n",
       "      <td>999.txt</td>\n",
       "      <td>#colorsplash_bw #zealous Remedios #herbales y ...</td>\n",
       "      <td>positive</td>\n",
       "    </tr>\n",
       "  </tbody>\n",
       "</table>\n",
       "<p>4869 rows × 3 columns</p>\n",
       "</div>"
      ],
      "text/plain": [
       "     File Name                                            Caption     LABEL\n",
       "0        1.txt      How I feel today #legday #jelly #aching #gym   negative\n",
       "1       10.txt  @ArrivaTW absolute disgrace two carriages from...  negative\n",
       "2      100.txt  This is my Valentine's from 1 of my nephews. I...  positive\n",
       "3     1000.txt  betterfeelingfilms: RT via Instagram: First da...   neutral\n",
       "4     1001.txt         Zoe's first love #Rattled @JohnnyHarper15   positive\n",
       "...        ...                                                ...       ...\n",
       "4864   995.txt  OMG. Well done #Eskom! 'Man dies during #LoadS...  positive\n",
       "4865   996.txt  Feelin' the love in here! #ValentinesDay #caring   positive\n",
       "4866   997.txt                      #blue #eyes can't be #beaten    neutral\n",
       "4867   998.txt              LA CHUCHA LOUUU TE CHUPO LOS OJOS..!    neutral\n",
       "4868   999.txt  #colorsplash_bw #zealous Remedios #herbales y ...  positive\n",
       "\n",
       "[4869 rows x 3 columns]"
      ]
     },
     "execution_count": 1,
     "metadata": {},
     "output_type": "execute_result"
    }
   ],
   "source": [
    "import numpy as np\n",
    "import pandas as pd\n",
    "import re\n",
    "import emoji\n",
    "import seaborn as sns\n",
    "\n",
    "import spacy\n",
    "nlp = spacy.load('en_core_web_sm')\n",
    "\n",
    "from sklearn.model_selection import train_test_split\n",
    "from sklearn.metrics import accuracy_score, confusion_matrix, ConfusionMatrixDisplay, classification_report\n",
    "from sklearn.naive_bayes import MultinomialNB\n",
    "from sklearn.feature_extraction.text import CountVectorizer\n",
    "\n",
    "data = pd.read_excel('/mnt/c/Users/preet/Downloads/LabeledText.xlsx')\n",
    "data"
   ]
  },
  {
   "cell_type": "code",
   "execution_count": 2,
   "id": "9c19ff30",
   "metadata": {},
   "outputs": [
    {
     "data": {
      "text/plain": [
       "File Name    0\n",
       "Caption      0\n",
       "LABEL        0\n",
       "dtype: int64"
      ]
     },
     "execution_count": 2,
     "metadata": {},
     "output_type": "execute_result"
    }
   ],
   "source": [
    "data.isnull().sum()"
   ]
  },
  {
   "cell_type": "code",
   "execution_count": 3,
   "id": "abbfd28d",
   "metadata": {},
   "outputs": [
    {
     "data": {
      "text/plain": [
       "LABEL\n",
       "neutral     1771\n",
       "positive    1646\n",
       "negative    1452\n",
       "Name: count, dtype: int64"
      ]
     },
     "execution_count": 3,
     "metadata": {},
     "output_type": "execute_result"
    }
   ],
   "source": [
    "sentiment = data.LABEL.value_counts()\n",
    "sentiment"
   ]
  },
  {
   "cell_type": "code",
   "execution_count": 4,
   "id": "980dbb6f",
   "metadata": {},
   "outputs": [
    {
     "data": {
      "text/html": [
       "<div>\n",
       "<style scoped>\n",
       "    .dataframe tbody tr th:only-of-type {\n",
       "        vertical-align: middle;\n",
       "    }\n",
       "\n",
       "    .dataframe tbody tr th {\n",
       "        vertical-align: top;\n",
       "    }\n",
       "\n",
       "    .dataframe thead th {\n",
       "        text-align: right;\n",
       "    }\n",
       "</style>\n",
       "<table border=\"1\" class=\"dataframe\">\n",
       "  <thead>\n",
       "    <tr style=\"text-align: right;\">\n",
       "      <th></th>\n",
       "      <th>File Name</th>\n",
       "      <th>Caption</th>\n",
       "      <th>LABEL</th>\n",
       "      <th>cleanedTweet</th>\n",
       "    </tr>\n",
       "  </thead>\n",
       "  <tbody>\n",
       "    <tr>\n",
       "      <th>0</th>\n",
       "      <td>1.txt</td>\n",
       "      <td>How I feel today #legday #jelly #aching #gym</td>\n",
       "      <td>negative</td>\n",
       "      <td>how i feel today  legday  jelly  aching  gym</td>\n",
       "    </tr>\n",
       "    <tr>\n",
       "      <th>1</th>\n",
       "      <td>10.txt</td>\n",
       "      <td>@ArrivaTW absolute disgrace two carriages from...</td>\n",
       "      <td>negative</td>\n",
       "      <td>arrivatw absolute disgrace two carriages from...</td>\n",
       "    </tr>\n",
       "    <tr>\n",
       "      <th>2</th>\n",
       "      <td>100.txt</td>\n",
       "      <td>This is my Valentine's from 1 of my nephews. I...</td>\n",
       "      <td>positive</td>\n",
       "      <td>this is my valentine s from   of my nephews  i...</td>\n",
       "    </tr>\n",
       "    <tr>\n",
       "      <th>3</th>\n",
       "      <td>1000.txt</td>\n",
       "      <td>betterfeelingfilms: RT via Instagram: First da...</td>\n",
       "      <td>neutral</td>\n",
       "      <td>betterfeelingfilms  rt via instagram  first da...</td>\n",
       "    </tr>\n",
       "    <tr>\n",
       "      <th>4</th>\n",
       "      <td>1001.txt</td>\n",
       "      <td>Zoe's first love #Rattled @JohnnyHarper15</td>\n",
       "      <td>positive</td>\n",
       "      <td>zoe s first love  rattled  johnnyharper</td>\n",
       "    </tr>\n",
       "    <tr>\n",
       "      <th>...</th>\n",
       "      <td>...</td>\n",
       "      <td>...</td>\n",
       "      <td>...</td>\n",
       "      <td>...</td>\n",
       "    </tr>\n",
       "    <tr>\n",
       "      <th>4864</th>\n",
       "      <td>995.txt</td>\n",
       "      <td>OMG. Well done #Eskom! 'Man dies during #LoadS...</td>\n",
       "      <td>positive</td>\n",
       "      <td>omg  well done  eskom   man dies during  loads...</td>\n",
       "    </tr>\n",
       "    <tr>\n",
       "      <th>4865</th>\n",
       "      <td>996.txt</td>\n",
       "      <td>Feelin' the love in here! #ValentinesDay #caring</td>\n",
       "      <td>positive</td>\n",
       "      <td>feelin  the love in here   valentinesday  caring</td>\n",
       "    </tr>\n",
       "    <tr>\n",
       "      <th>4866</th>\n",
       "      <td>997.txt</td>\n",
       "      <td>#blue #eyes can't be #beaten</td>\n",
       "      <td>neutral</td>\n",
       "      <td>blue  eyes can t be  beaten</td>\n",
       "    </tr>\n",
       "    <tr>\n",
       "      <th>4867</th>\n",
       "      <td>998.txt</td>\n",
       "      <td>LA CHUCHA LOUUU TE CHUPO LOS OJOS..!</td>\n",
       "      <td>neutral</td>\n",
       "      <td>la chucha louuu te chupo los ojos</td>\n",
       "    </tr>\n",
       "    <tr>\n",
       "      <th>4868</th>\n",
       "      <td>999.txt</td>\n",
       "      <td>#colorsplash_bw #zealous Remedios #herbales y ...</td>\n",
       "      <td>positive</td>\n",
       "      <td>colorsplash bw  zealous remedios  herbales y ...</td>\n",
       "    </tr>\n",
       "  </tbody>\n",
       "</table>\n",
       "<p>4869 rows × 4 columns</p>\n",
       "</div>"
      ],
      "text/plain": [
       "     File Name                                            Caption     LABEL  \\\n",
       "0        1.txt      How I feel today #legday #jelly #aching #gym   negative   \n",
       "1       10.txt  @ArrivaTW absolute disgrace two carriages from...  negative   \n",
       "2      100.txt  This is my Valentine's from 1 of my nephews. I...  positive   \n",
       "3     1000.txt  betterfeelingfilms: RT via Instagram: First da...   neutral   \n",
       "4     1001.txt         Zoe's first love #Rattled @JohnnyHarper15   positive   \n",
       "...        ...                                                ...       ...   \n",
       "4864   995.txt  OMG. Well done #Eskom! 'Man dies during #LoadS...  positive   \n",
       "4865   996.txt  Feelin' the love in here! #ValentinesDay #caring   positive   \n",
       "4866   997.txt                      #blue #eyes can't be #beaten    neutral   \n",
       "4867   998.txt              LA CHUCHA LOUUU TE CHUPO LOS OJOS..!    neutral   \n",
       "4868   999.txt  #colorsplash_bw #zealous Remedios #herbales y ...  positive   \n",
       "\n",
       "                                           cleanedTweet  \n",
       "0          how i feel today  legday  jelly  aching  gym  \n",
       "1      arrivatw absolute disgrace two carriages from...  \n",
       "2     this is my valentine s from   of my nephews  i...  \n",
       "3     betterfeelingfilms  rt via instagram  first da...  \n",
       "4             zoe s first love  rattled  johnnyharper    \n",
       "...                                                 ...  \n",
       "4864  omg  well done  eskom   man dies during  loads...  \n",
       "4865   feelin  the love in here   valentinesday  caring  \n",
       "4866                        blue  eyes can t be  beaten  \n",
       "4867               la chucha louuu te chupo los ojos     \n",
       "4868   colorsplash bw  zealous remedios  herbales y ...  \n",
       "\n",
       "[4869 rows x 4 columns]"
      ]
     },
     "execution_count": 4,
     "metadata": {},
     "output_type": "execute_result"
    }
   ],
   "source": [
    "def cleanTweets(text):\n",
    "    text = re.sub('[^a-zA-Z]', ' ', str(text).lower().strip())\n",
    "    text = re.sub('@[A-Za-z0-9_]+', '', text) \n",
    "    text = re.sub('#','',text) \n",
    "    text = re.sub('RT[\\s]+','',text)\n",
    "    text = re.sub('https?:\\/\\/\\S+', '', text) \n",
    "    text = re.sub('\\n',' ',text)\n",
    "    text = emoji.replace_emoji(text, replace='')\n",
    "    return text\n",
    "data['cleanedTweet'] = data['Caption'].apply(cleanTweets) \n",
    "data"
   ]
  },
  {
   "cell_type": "code",
   "execution_count": 5,
   "id": "39350e00",
   "metadata": {},
   "outputs": [
    {
     "data": {
      "text/html": [
       "<div>\n",
       "<style scoped>\n",
       "    .dataframe tbody tr th:only-of-type {\n",
       "        vertical-align: middle;\n",
       "    }\n",
       "\n",
       "    .dataframe tbody tr th {\n",
       "        vertical-align: top;\n",
       "    }\n",
       "\n",
       "    .dataframe thead th {\n",
       "        text-align: right;\n",
       "    }\n",
       "</style>\n",
       "<table border=\"1\" class=\"dataframe\">\n",
       "  <thead>\n",
       "    <tr style=\"text-align: right;\">\n",
       "      <th></th>\n",
       "      <th>File Name</th>\n",
       "      <th>Caption</th>\n",
       "      <th>LABEL</th>\n",
       "      <th>cleanedTweet</th>\n",
       "    </tr>\n",
       "  </thead>\n",
       "  <tbody>\n",
       "    <tr>\n",
       "      <th>0</th>\n",
       "      <td>1.txt</td>\n",
       "      <td>How I feel today #legday #jelly #aching #gym</td>\n",
       "      <td>negative</td>\n",
       "      <td>feel today   legday   jelly   ache   gym</td>\n",
       "    </tr>\n",
       "    <tr>\n",
       "      <th>1</th>\n",
       "      <td>10.txt</td>\n",
       "      <td>@ArrivaTW absolute disgrace two carriages from...</td>\n",
       "      <td>negative</td>\n",
       "      <td>arrivatw absolute disgrace carriage bangor h...</td>\n",
       "    </tr>\n",
       "    <tr>\n",
       "      <th>2</th>\n",
       "      <td>100.txt</td>\n",
       "      <td>This is my Valentine's from 1 of my nephews. I...</td>\n",
       "      <td>positive</td>\n",
       "      <td>valentine s    nephew   elated   little thing ...</td>\n",
       "    </tr>\n",
       "    <tr>\n",
       "      <th>3</th>\n",
       "      <td>1000.txt</td>\n",
       "      <td>betterfeelingfilms: RT via Instagram: First da...</td>\n",
       "      <td>neutral</td>\n",
       "      <td>betterfeelingfilm   rt instagram   day film   ...</td>\n",
       "    </tr>\n",
       "    <tr>\n",
       "      <th>4</th>\n",
       "      <td>1001.txt</td>\n",
       "      <td>Zoe's first love #Rattled @JohnnyHarper15</td>\n",
       "      <td>positive</td>\n",
       "      <td>zoe s love   rattle   johnnyharper</td>\n",
       "    </tr>\n",
       "    <tr>\n",
       "      <th>...</th>\n",
       "      <td>...</td>\n",
       "      <td>...</td>\n",
       "      <td>...</td>\n",
       "      <td>...</td>\n",
       "    </tr>\n",
       "    <tr>\n",
       "      <th>4864</th>\n",
       "      <td>995.txt</td>\n",
       "      <td>OMG. Well done #Eskom! 'Man dies during #LoadS...</td>\n",
       "      <td>positive</td>\n",
       "      <td>omg     eskom    man die   loadshedde    power...</td>\n",
       "    </tr>\n",
       "    <tr>\n",
       "      <th>4865</th>\n",
       "      <td>996.txt</td>\n",
       "      <td>Feelin' the love in here! #ValentinesDay #caring</td>\n",
       "      <td>positive</td>\n",
       "      <td>feelin   love    valentinesday   care</td>\n",
       "    </tr>\n",
       "    <tr>\n",
       "      <th>4866</th>\n",
       "      <td>997.txt</td>\n",
       "      <td>#blue #eyes can't be #beaten</td>\n",
       "      <td>neutral</td>\n",
       "      <td>blue   eye t   beat</td>\n",
       "    </tr>\n",
       "    <tr>\n",
       "      <th>4867</th>\n",
       "      <td>998.txt</td>\n",
       "      <td>LA CHUCHA LOUUU TE CHUPO LOS OJOS..!</td>\n",
       "      <td>neutral</td>\n",
       "      <td>la chucha louuu te chupo los ojos</td>\n",
       "    </tr>\n",
       "    <tr>\n",
       "      <th>4868</th>\n",
       "      <td>999.txt</td>\n",
       "      <td>#colorsplash_bw #zealous Remedios #herbales y ...</td>\n",
       "      <td>positive</td>\n",
       "      <td>colorsplash bw   zealous remedio   herbale y...</td>\n",
       "    </tr>\n",
       "  </tbody>\n",
       "</table>\n",
       "<p>4869 rows × 4 columns</p>\n",
       "</div>"
      ],
      "text/plain": [
       "     File Name                                            Caption     LABEL  \\\n",
       "0        1.txt      How I feel today #legday #jelly #aching #gym   negative   \n",
       "1       10.txt  @ArrivaTW absolute disgrace two carriages from...  negative   \n",
       "2      100.txt  This is my Valentine's from 1 of my nephews. I...  positive   \n",
       "3     1000.txt  betterfeelingfilms: RT via Instagram: First da...   neutral   \n",
       "4     1001.txt         Zoe's first love #Rattled @JohnnyHarper15   positive   \n",
       "...        ...                                                ...       ...   \n",
       "4864   995.txt  OMG. Well done #Eskom! 'Man dies during #LoadS...  positive   \n",
       "4865   996.txt  Feelin' the love in here! #ValentinesDay #caring   positive   \n",
       "4866   997.txt                      #blue #eyes can't be #beaten    neutral   \n",
       "4867   998.txt              LA CHUCHA LOUUU TE CHUPO LOS OJOS..!    neutral   \n",
       "4868   999.txt  #colorsplash_bw #zealous Remedios #herbales y ...  positive   \n",
       "\n",
       "                                           cleanedTweet  \n",
       "0              feel today   legday   jelly   ache   gym  \n",
       "1       arrivatw absolute disgrace carriage bangor h...  \n",
       "2     valentine s    nephew   elated   little thing ...  \n",
       "3     betterfeelingfilm   rt instagram   day film   ...  \n",
       "4                  zoe s love   rattle   johnnyharper    \n",
       "...                                                 ...  \n",
       "4864  omg     eskom    man die   loadshedde    power...  \n",
       "4865              feelin   love    valentinesday   care  \n",
       "4866                                blue   eye t   beat  \n",
       "4867               la chucha louuu te chupo los ojos     \n",
       "4868    colorsplash bw   zealous remedio   herbale y...  \n",
       "\n",
       "[4869 rows x 4 columns]"
      ]
     },
     "execution_count": 5,
     "metadata": {},
     "output_type": "execute_result"
    }
   ],
   "source": [
    "def text_preprocessing(text):\n",
    "    doc = nlp(text)\n",
    "    tokens = [token.lemma_.lower() for token in doc if not token.is_stop and not token.is_punct]\n",
    "    return ' '.join(tokens)\n",
    "data['cleanedTweet'] = data['cleanedTweet'].apply(text_preprocessing)\n",
    "data"
   ]
  },
  {
   "cell_type": "code",
   "execution_count": 6,
   "id": "8b713f36",
   "metadata": {},
   "outputs": [],
   "source": [
    "X = data['cleanedTweet']\n",
    "y = data['LABEL']\n",
    "\n",
    "X_train, X_test, y_train, y_test = train_test_split(X,y,test_size = 0.2,shuffle=True,stratify=y)"
   ]
  },
  {
   "cell_type": "code",
   "execution_count": 7,
   "id": "8f825cbd",
   "metadata": {},
   "outputs": [],
   "source": [
    "vectorizer = CountVectorizer()\n",
    "X_train = vectorizer.fit_transform(X_train)\n",
    "X_test = vectorizer.transform(X_test)"
   ]
  },
  {
   "cell_type": "code",
   "execution_count": 8,
   "id": "7c80c769",
   "metadata": {},
   "outputs": [
    {
     "data": {
      "text/plain": [
       "0.9645699614890886"
      ]
     },
     "execution_count": 8,
     "metadata": {},
     "output_type": "execute_result"
    }
   ],
   "source": [
    "model = MultinomialNB()\n",
    "model.fit(X_train,y_train)\n",
    "model.score(X_train,y_train)"
   ]
  },
  {
   "cell_type": "code",
   "execution_count": 9,
   "id": "fd3f0916",
   "metadata": {},
   "outputs": [
    {
     "name": "stdout",
     "output_type": "stream",
     "text": [
      "0.6827515400410678\n"
     ]
    }
   ],
   "source": [
    "y_pred = model.predict(X_test)\n",
    "accuracy = accuracy_score(y_test,y_pred)\n",
    "print(accuracy)"
   ]
  },
  {
   "cell_type": "code",
   "execution_count": 10,
   "id": "d05e5934",
   "metadata": {},
   "outputs": [
    {
     "data": {
      "text/plain": [
       "<sklearn.metrics._plot.confusion_matrix.ConfusionMatrixDisplay at 0x7ffad3b12740>"
      ]
     },
     "execution_count": 10,
     "metadata": {},
     "output_type": "execute_result"
    },
    {
     "data": {
      "image/png": "[encoded data removed]",
      "text/plain": [
       "<Figure size 640x480 with 2 Axes>"
      ]
     },
     "metadata": {},
     "output_type": "display_data"
    }
   ],
   "source": [
    "cf = confusion_matrix(y_test, y_pred)\n",
    "plotcf = ConfusionMatrixDisplay(cf)\n",
    "plotcf.plot()"
   ]
  },
  {
   "cell_type": "code",
   "execution_count": 11,
   "id": "1211a27a",
   "metadata": {},
   "outputs": [
    {
     "name": "stdout",
     "output_type": "stream",
     "text": [
      "              precision    recall  f1-score   support\n",
      "\n",
      "    negative       0.69      0.57      0.62       291\n",
      "     neutral       0.64      0.65      0.64       354\n",
      "    positive       0.72      0.82      0.77       329\n",
      "\n",
      "    accuracy                           0.68       974\n",
      "   macro avg       0.68      0.68      0.68       974\n",
      "weighted avg       0.68      0.68      0.68       974\n",
      "\n"
     ]
    }
   ],
   "source": [
    "report = classification_report(y_test, y_pred)\n",
    "print(report)"
   ]
  },
  {
   "cell_type": "code",
   "execution_count": null,
   "id": "719f2d60",
   "metadata": {},
   "outputs": [],
   "source": []
  }
 ],
 "metadata": {
  "kernelspec": {
   "display_name": "Python 3 (ipykernel)",
   "language": "python",
   "name": "python3"
  },
  "language_info": {
   "codemirror_mode": {
    "name": "ipython",
    "version": 3
   },
   "file_extension": ".py",
   "mimetype": "text/x-python",
   "name": "python",
   "nbconvert_exporter": "python",
   "pygments_lexer": "ipython3",
   "version": "3.10.6"
  }
 },
 "nbformat": 4,
 "nbformat_minor": 5
}
